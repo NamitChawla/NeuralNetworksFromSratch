{
 "cells": [
  {
   "cell_type": "code",
   "execution_count": 1,
   "metadata": {},
   "outputs": [],
   "source": [
    "#import libraries as per requirement\n",
    "import numpy as np\n",
    "import matplotlib.pyplot as plt\n",
    "import pandas as pd"
   ]
  },
  {
   "cell_type": "code",
   "execution_count": 2,
   "metadata": {},
   "outputs": [
    {
     "data": {
      "text/html": [
       "<div>\n",
       "<style scoped>\n",
       "    .dataframe tbody tr th:only-of-type {\n",
       "        vertical-align: middle;\n",
       "    }\n",
       "\n",
       "    .dataframe tbody tr th {\n",
       "        vertical-align: top;\n",
       "    }\n",
       "\n",
       "    .dataframe thead th {\n",
       "        text-align: right;\n",
       "    }\n",
       "</style>\n",
       "<table border=\"1\" class=\"dataframe\">\n",
       "  <thead>\n",
       "    <tr style=\"text-align: right;\">\n",
       "      <th></th>\n",
       "      <th>RowNumber</th>\n",
       "      <th>CustomerId</th>\n",
       "      <th>Surname</th>\n",
       "      <th>CreditScore</th>\n",
       "      <th>Geography</th>\n",
       "      <th>Gender</th>\n",
       "      <th>Age</th>\n",
       "      <th>Tenure</th>\n",
       "      <th>Balance</th>\n",
       "      <th>NumOfProducts</th>\n",
       "      <th>HasCrCard</th>\n",
       "      <th>IsActiveMember</th>\n",
       "      <th>EstimatedSalary</th>\n",
       "      <th>Exited</th>\n",
       "    </tr>\n",
       "  </thead>\n",
       "  <tbody>\n",
       "    <tr>\n",
       "      <th>0</th>\n",
       "      <td>1</td>\n",
       "      <td>15634602</td>\n",
       "      <td>Hargrave</td>\n",
       "      <td>619</td>\n",
       "      <td>France</td>\n",
       "      <td>Female</td>\n",
       "      <td>42</td>\n",
       "      <td>2</td>\n",
       "      <td>0.00</td>\n",
       "      <td>1</td>\n",
       "      <td>1</td>\n",
       "      <td>1</td>\n",
       "      <td>101348.88</td>\n",
       "      <td>1</td>\n",
       "    </tr>\n",
       "    <tr>\n",
       "      <th>1</th>\n",
       "      <td>2</td>\n",
       "      <td>15647311</td>\n",
       "      <td>Hill</td>\n",
       "      <td>608</td>\n",
       "      <td>Spain</td>\n",
       "      <td>Female</td>\n",
       "      <td>41</td>\n",
       "      <td>1</td>\n",
       "      <td>83807.86</td>\n",
       "      <td>1</td>\n",
       "      <td>0</td>\n",
       "      <td>1</td>\n",
       "      <td>112542.58</td>\n",
       "      <td>0</td>\n",
       "    </tr>\n",
       "    <tr>\n",
       "      <th>2</th>\n",
       "      <td>3</td>\n",
       "      <td>15619304</td>\n",
       "      <td>Onio</td>\n",
       "      <td>502</td>\n",
       "      <td>France</td>\n",
       "      <td>Female</td>\n",
       "      <td>42</td>\n",
       "      <td>8</td>\n",
       "      <td>159660.80</td>\n",
       "      <td>3</td>\n",
       "      <td>1</td>\n",
       "      <td>0</td>\n",
       "      <td>113931.57</td>\n",
       "      <td>1</td>\n",
       "    </tr>\n",
       "    <tr>\n",
       "      <th>3</th>\n",
       "      <td>4</td>\n",
       "      <td>15701354</td>\n",
       "      <td>Boni</td>\n",
       "      <td>699</td>\n",
       "      <td>France</td>\n",
       "      <td>Female</td>\n",
       "      <td>39</td>\n",
       "      <td>1</td>\n",
       "      <td>0.00</td>\n",
       "      <td>2</td>\n",
       "      <td>0</td>\n",
       "      <td>0</td>\n",
       "      <td>93826.63</td>\n",
       "      <td>0</td>\n",
       "    </tr>\n",
       "    <tr>\n",
       "      <th>4</th>\n",
       "      <td>5</td>\n",
       "      <td>15737888</td>\n",
       "      <td>Mitchell</td>\n",
       "      <td>850</td>\n",
       "      <td>Spain</td>\n",
       "      <td>Female</td>\n",
       "      <td>43</td>\n",
       "      <td>2</td>\n",
       "      <td>125510.82</td>\n",
       "      <td>1</td>\n",
       "      <td>1</td>\n",
       "      <td>1</td>\n",
       "      <td>79084.10</td>\n",
       "      <td>0</td>\n",
       "    </tr>\n",
       "  </tbody>\n",
       "</table>\n",
       "</div>"
      ],
      "text/plain": [
       "   RowNumber  CustomerId   Surname  CreditScore Geography  Gender  Age  \\\n",
       "0          1    15634602  Hargrave          619    France  Female   42   \n",
       "1          2    15647311      Hill          608     Spain  Female   41   \n",
       "2          3    15619304      Onio          502    France  Female   42   \n",
       "3          4    15701354      Boni          699    France  Female   39   \n",
       "4          5    15737888  Mitchell          850     Spain  Female   43   \n",
       "\n",
       "   Tenure    Balance  NumOfProducts  HasCrCard  IsActiveMember  \\\n",
       "0       2       0.00              1          1               1   \n",
       "1       1   83807.86              1          0               1   \n",
       "2       8  159660.80              3          1               0   \n",
       "3       1       0.00              2          0               0   \n",
       "4       2  125510.82              1          1               1   \n",
       "\n",
       "   EstimatedSalary  Exited  \n",
       "0        101348.88       1  \n",
       "1        112542.58       0  \n",
       "2        113931.57       1  \n",
       "3         93826.63       0  \n",
       "4         79084.10       0  "
      ]
     },
     "execution_count": 2,
     "metadata": {},
     "output_type": "execute_result"
    }
   ],
   "source": [
    "#importing my dataset\n",
    "dataset =pd.read_csv(\"Churn_Modelling.csv\")\n",
    "dataset.head()"
   ]
  },
  {
   "cell_type": "code",
   "execution_count": 3,
   "metadata": {},
   "outputs": [],
   "source": [
    "#dividing dependent and independent variables\n",
    "x = dataset.iloc[:, 3:13]\n",
    "y = dataset.iloc[:, 13]"
   ]
  },
  {
   "cell_type": "code",
   "execution_count": 9,
   "metadata": {},
   "outputs": [
    {
     "name": "stdout",
     "output_type": "stream",
     "text": [
      "   Germany  Spain\n",
      "0        0      0\n",
      "1        0      1\n",
      "2        0      0\n",
      "3        0      0\n",
      "4        0      1\n",
      "\n",
      "\n",
      "   Male\n",
      "0     0\n",
      "1     0\n",
      "2     0\n",
      "3     0\n",
      "4     0\n"
     ]
    }
   ],
   "source": [
    "#create string values to dummy integer values for Geography and Gender\n",
    "geography = pd.get_dummies(x[\"Geography\"], drop_first=True)\n",
    "gender = pd.get_dummies(x[\"Gender\"], drop_first=True)\n",
    "print(geography.head())\n",
    "print(\"\\n\")\n",
    "print(gender.head())"
   ]
  },
  {
   "cell_type": "code",
   "execution_count": 10,
   "metadata": {},
   "outputs": [],
   "source": [
    "#now, lets combine these dataframes to our indepedent dataset \"x\"\n",
    "x = pd.concat([x, geography, gender], axis=1)\n",
    "#and lets drop unnecessary columns\n",
    "x = x.drop([\"Geography\",\"Gender\"], axis=1)"
   ]
  },
  {
   "cell_type": "code",
   "execution_count": 11,
   "metadata": {},
   "outputs": [],
   "source": [
    "#split dataset into train and test data\n",
    "from sklearn.model_selection import train_test_split"
   ]
  },
  {
   "cell_type": "code",
   "execution_count": 12,
   "metadata": {},
   "outputs": [],
   "source": [
    "X_train, X_test, y_train, y_test = train_test_split(x, y, test_size=0.2, random_state=0)"
   ]
  },
  {
   "cell_type": "code",
   "execution_count": 13,
   "metadata": {},
   "outputs": [
    {
     "name": "stderr",
     "output_type": "stream",
     "text": [
      "C:\\ProgramData\\Anaconda3\\lib\\site-packages\\sklearn\\preprocessing\\data.py:625: DataConversionWarning: Data with input dtype uint8, int64, float64 were all converted to float64 by StandardScaler.\n",
      "  return self.partial_fit(X, y)\n",
      "C:\\ProgramData\\Anaconda3\\lib\\site-packages\\sklearn\\base.py:462: DataConversionWarning: Data with input dtype uint8, int64, float64 were all converted to float64 by StandardScaler.\n",
      "  return self.fit(X, **fit_params).transform(X)\n",
      "C:\\ProgramData\\Anaconda3\\lib\\site-packages\\ipykernel_launcher.py:5: DataConversionWarning: Data with input dtype uint8, int64, float64 were all converted to float64 by StandardScaler.\n",
      "  \"\"\"\n"
     ]
    }
   ],
   "source": [
    "#Feature scaling\n",
    "from sklearn.preprocessing import StandardScaler\n",
    "sc = StandardScaler()\n",
    "X_train = sc.fit_transform(X_train)\n",
    "X_test = sc.transform(X_test)"
   ]
  },
  {
   "cell_type": "markdown",
   "metadata": {},
   "source": [
    "# Making ANN"
   ]
  },
  {
   "cell_type": "code",
   "execution_count": 14,
   "metadata": {},
   "outputs": [
    {
     "name": "stderr",
     "output_type": "stream",
     "text": [
      "Using TensorFlow backend.\n"
     ]
    }
   ],
   "source": [
    "#import keras libraries and packages\n",
    "import keras\n",
    "from keras.models import Sequential\n",
    "from keras.layers import Dense\n",
    "from keras.layers import LeakyReLU, PReLU, ELU\n",
    "from keras.layers import Dropout"
   ]
  },
  {
   "cell_type": "code",
   "execution_count": 15,
   "metadata": {},
   "outputs": [],
   "source": [
    "# initialize ANN\n",
    "classifierModel = Sequential()"
   ]
  },
  {
   "cell_type": "code",
   "execution_count": 16,
   "metadata": {},
   "outputs": [
    {
     "name": "stdout",
     "output_type": "stream",
     "text": [
      "WARNING:tensorflow:From C:\\ProgramData\\Anaconda3\\lib\\site-packages\\tensorflow\\python\\framework\\op_def_library.py:263: colocate_with (from tensorflow.python.framework.ops) is deprecated and will be removed in a future version.\n",
      "Instructions for updating:\n",
      "Colocations handled automatically by placer.\n"
     ]
    }
   ],
   "source": [
    "#Lets add the input layer and first hidden layer\n",
    "classifierModel.add(Dense(units=6, kernel_initializer=\"he_uniform\", activation=\"relu\", input_dim=11))\n",
    "#units are number of hidden neurons in the hidden layer\n",
    "#input_dim describes how many input features are connected to the hidden layer"
   ]
  },
  {
   "cell_type": "code",
   "execution_count": 17,
   "metadata": {},
   "outputs": [],
   "source": [
    "#Adding second hidden layer\n",
    "classifierModel.add(Dense(units=6, kernel_initializer=\"he_uniform\", activation=\"relu\"))"
   ]
  },
  {
   "cell_type": "code",
   "execution_count": 18,
   "metadata": {},
   "outputs": [],
   "source": [
    "#Lets now add the output layer\n",
    "classifierModel.add(Dense(units=1, kernel_initializer=\"glorot_uniform\", activation=\"sigmoid\"))"
   ]
  },
  {
   "cell_type": "code",
   "execution_count": 19,
   "metadata": {},
   "outputs": [
    {
     "name": "stdout",
     "output_type": "stream",
     "text": [
      "_________________________________________________________________\n",
      "Layer (type)                 Output Shape              Param #   \n",
      "=================================================================\n",
      "dense_1 (Dense)              (None, 6)                 72        \n",
      "_________________________________________________________________\n",
      "dense_2 (Dense)              (None, 6)                 42        \n",
      "_________________________________________________________________\n",
      "dense_3 (Dense)              (None, 1)                 7         \n",
      "=================================================================\n",
      "Total params: 121\n",
      "Trainable params: 121\n",
      "Non-trainable params: 0\n",
      "_________________________________________________________________\n"
     ]
    }
   ],
   "source": [
    "#Let us check the model we've built\n",
    "classifierModel.summary()"
   ]
  },
  {
   "cell_type": "code",
   "execution_count": 21,
   "metadata": {},
   "outputs": [],
   "source": [
    "#now lets compile ANN\n",
    "classifierModel.compile(optimizer=\"adam\", loss=\"binary_crossentropy\", metrics=[\"accuracy\"])"
   ]
  },
  {
   "cell_type": "code",
   "execution_count": 22,
   "metadata": {},
   "outputs": [
    {
     "name": "stdout",
     "output_type": "stream",
     "text": [
      "WARNING:tensorflow:From C:\\ProgramData\\Anaconda3\\lib\\site-packages\\tensorflow\\python\\ops\\math_ops.py:3066: to_int32 (from tensorflow.python.ops.math_ops) is deprecated and will be removed in a future version.\n",
      "Instructions for updating:\n",
      "Use tf.cast instead.\n"
     ]
    },
    {
     "name": "stderr",
     "output_type": "stream",
     "text": [
      "C:\\ProgramData\\Anaconda3\\lib\\site-packages\\ipykernel_launcher.py:2: UserWarning: The `nb_epoch` argument in `fit` has been renamed `epochs`.\n",
      "  \n"
     ]
    },
    {
     "name": "stdout",
     "output_type": "stream",
     "text": [
      "Train on 5359 samples, validate on 2641 samples\n",
      "Epoch 1/100\n",
      "5359/5359 [==============================] - 2s 307us/step - loss: 0.5821 - acc: 0.7528 - val_loss: 0.5032 - val_acc: 0.7974\n",
      "Epoch 2/100\n",
      "5359/5359 [==============================] - 1s 169us/step - loss: 0.4777 - acc: 0.8000 - val_loss: 0.4550 - val_acc: 0.8039\n",
      "Epoch 3/100\n",
      "5359/5359 [==============================] - 1s 167us/step - loss: 0.4399 - acc: 0.8089 - val_loss: 0.4323 - val_acc: 0.8145\n",
      "Epoch 4/100\n",
      "5359/5359 [==============================] - 1s 213us/step - loss: 0.4205 - acc: 0.8160 - val_loss: 0.4228 - val_acc: 0.8111\n",
      "Epoch 5/100\n",
      "5359/5359 [==============================] - 1s 217us/step - loss: 0.4095 - acc: 0.8212 - val_loss: 0.4163 - val_acc: 0.8141\n",
      "Epoch 6/100\n",
      "5359/5359 [==============================] - 1s 159us/step - loss: 0.4018 - acc: 0.8242 - val_loss: 0.4115 - val_acc: 0.8164\n",
      "Epoch 7/100\n",
      "5359/5359 [==============================] - 1s 207us/step - loss: 0.3958 - acc: 0.8250 - val_loss: 0.4058 - val_acc: 0.8179\n",
      "Epoch 8/100\n",
      "5359/5359 [==============================] - 1s 227us/step - loss: 0.3894 - acc: 0.8266 - val_loss: 0.4007 - val_acc: 0.8209\n",
      "Epoch 9/100\n",
      "5359/5359 [==============================] - 1s 191us/step - loss: 0.3842 - acc: 0.8296 - val_loss: 0.3966 - val_acc: 0.8236\n",
      "Epoch 10/100\n",
      "5359/5359 [==============================] - 1s 168us/step - loss: 0.3793 - acc: 0.8298 - val_loss: 0.3951 - val_acc: 0.8213\n",
      "Epoch 11/100\n",
      "5359/5359 [==============================] - 1s 223us/step - loss: 0.3755 - acc: 0.8296 - val_loss: 0.3920 - val_acc: 0.8194\n",
      "Epoch 12/100\n",
      "5359/5359 [==============================] - 1s 195us/step - loss: 0.3717 - acc: 0.8308 - val_loss: 0.3896 - val_acc: 0.8201\n",
      "Epoch 13/100\n",
      "5359/5359 [==============================] - 1s 176us/step - loss: 0.3689 - acc: 0.8302 - val_loss: 0.3870 - val_acc: 0.8232\n",
      "Epoch 14/100\n",
      "5359/5359 [==============================] - 1s 187us/step - loss: 0.3658 - acc: 0.8319 - val_loss: 0.3855 - val_acc: 0.8232\n",
      "Epoch 15/100\n",
      "5359/5359 [==============================] - 1s 158us/step - loss: 0.3633 - acc: 0.8343 - val_loss: 0.3832 - val_acc: 0.8243\n",
      "Epoch 16/100\n",
      "5359/5359 [==============================] - 1s 153us/step - loss: 0.3608 - acc: 0.8360 - val_loss: 0.3821 - val_acc: 0.8266\n",
      "Epoch 17/100\n",
      "5359/5359 [==============================] - 1s 152us/step - loss: 0.3591 - acc: 0.8528 - val_loss: 0.3787 - val_acc: 0.8455\n",
      "Epoch 18/100\n",
      "5359/5359 [==============================] - 1s 189us/step - loss: 0.3571 - acc: 0.8580 - val_loss: 0.3813 - val_acc: 0.8417\n",
      "Epoch 19/100\n",
      "5359/5359 [==============================] - 1s 195us/step - loss: 0.3563 - acc: 0.8587 - val_loss: 0.3765 - val_acc: 0.8463\n",
      "Epoch 20/100\n",
      "5359/5359 [==============================] - 1s 175us/step - loss: 0.3546 - acc: 0.8587 - val_loss: 0.3761 - val_acc: 0.8470\n",
      "Epoch 21/100\n",
      "5359/5359 [==============================] - 1s 183us/step - loss: 0.3536 - acc: 0.8586 - val_loss: 0.3741 - val_acc: 0.8493\n",
      "Epoch 22/100\n",
      "5359/5359 [==============================] - 1s 163us/step - loss: 0.3525 - acc: 0.8599 - val_loss: 0.3736 - val_acc: 0.8470\n",
      "Epoch 23/100\n",
      "5359/5359 [==============================] - 1s 157us/step - loss: 0.3520 - acc: 0.8602 - val_loss: 0.3738 - val_acc: 0.8463\n",
      "Epoch 24/100\n",
      "5359/5359 [==============================] - 1s 239us/step - loss: 0.3509 - acc: 0.8604 - val_loss: 0.3719 - val_acc: 0.8504\n",
      "Epoch 25/100\n",
      "5359/5359 [==============================] - 1s 248us/step - loss: 0.3496 - acc: 0.8600 - val_loss: 0.3712 - val_acc: 0.8497\n",
      "Epoch 26/100\n",
      "5359/5359 [==============================] - 1s 160us/step - loss: 0.3491 - acc: 0.8615 - val_loss: 0.3702 - val_acc: 0.8501\n",
      "Epoch 27/100\n",
      "5359/5359 [==============================] - 1s 197us/step - loss: 0.3485 - acc: 0.8610 - val_loss: 0.3702 - val_acc: 0.8501\n",
      "Epoch 28/100\n",
      "5359/5359 [==============================] - 1s 176us/step - loss: 0.3476 - acc: 0.8595 - val_loss: 0.3702 - val_acc: 0.8489\n",
      "Epoch 29/100\n",
      "5359/5359 [==============================] - 1s 161us/step - loss: 0.3469 - acc: 0.8597 - val_loss: 0.3711 - val_acc: 0.8489\n",
      "Epoch 30/100\n",
      "5359/5359 [==============================] - 1s 161us/step - loss: 0.3463 - acc: 0.8614 - val_loss: 0.3701 - val_acc: 0.8501\n",
      "Epoch 31/100\n",
      "5359/5359 [==============================] - 1s 185us/step - loss: 0.3458 - acc: 0.8606 - val_loss: 0.3682 - val_acc: 0.8508\n",
      "Epoch 32/100\n",
      "5359/5359 [==============================] - 1s 174us/step - loss: 0.3441 - acc: 0.8608 - val_loss: 0.3700 - val_acc: 0.8485\n",
      "Epoch 33/100\n",
      "5359/5359 [==============================] - 1s 158us/step - loss: 0.3443 - acc: 0.8621 - val_loss: 0.3733 - val_acc: 0.8485\n",
      "Epoch 34/100\n",
      "5359/5359 [==============================] - 1s 156us/step - loss: 0.3446 - acc: 0.8597 - val_loss: 0.3705 - val_acc: 0.8478\n",
      "Epoch 35/100\n",
      "5359/5359 [==============================] - 1s 162us/step - loss: 0.3441 - acc: 0.8610 - val_loss: 0.3697 - val_acc: 0.8489\n",
      "Epoch 36/100\n",
      "5359/5359 [==============================] - 1s 169us/step - loss: 0.3436 - acc: 0.8619 - val_loss: 0.3694 - val_acc: 0.8489\n",
      "Epoch 37/100\n",
      "5359/5359 [==============================] - 1s 170us/step - loss: 0.3433 - acc: 0.8610 - val_loss: 0.3671 - val_acc: 0.8501\n",
      "Epoch 38/100\n",
      "5359/5359 [==============================] - 1s 157us/step - loss: 0.3425 - acc: 0.8593 - val_loss: 0.3683 - val_acc: 0.8516\n",
      "Epoch 39/100\n",
      "5359/5359 [==============================] - 1s 154us/step - loss: 0.3427 - acc: 0.8614 - val_loss: 0.3693 - val_acc: 0.8493\n",
      "Epoch 40/100\n",
      "5359/5359 [==============================] - 1s 157us/step - loss: 0.3424 - acc: 0.8608 - val_loss: 0.3688 - val_acc: 0.8478\n",
      "Epoch 41/100\n",
      "5359/5359 [==============================] - 1s 186us/step - loss: 0.3416 - acc: 0.8610 - val_loss: 0.3696 - val_acc: 0.8470\n",
      "Epoch 42/100\n",
      "5359/5359 [==============================] - 1s 173us/step - loss: 0.3415 - acc: 0.8621 - val_loss: 0.3691 - val_acc: 0.8478\n",
      "Epoch 43/100\n",
      "5359/5359 [==============================] - 1s 164us/step - loss: 0.3415 - acc: 0.8615 - val_loss: 0.3681 - val_acc: 0.8512\n",
      "Epoch 44/100\n",
      "5359/5359 [==============================] - 1s 159us/step - loss: 0.3409 - acc: 0.8632 - val_loss: 0.3723 - val_acc: 0.8463\n",
      "Epoch 45/100\n",
      "5359/5359 [==============================] - 1s 180us/step - loss: 0.3408 - acc: 0.8600 - val_loss: 0.3678 - val_acc: 0.8501\n",
      "Epoch 46/100\n",
      "5359/5359 [==============================] - 1s 243us/step - loss: 0.3407 - acc: 0.8614 - val_loss: 0.3682 - val_acc: 0.8501\n",
      "Epoch 47/100\n",
      "5359/5359 [==============================] - 1s 255us/step - loss: 0.3407 - acc: 0.8634 - val_loss: 0.3685 - val_acc: 0.8504\n",
      "Epoch 48/100\n",
      "5359/5359 [==============================] - 1s 223us/step - loss: 0.3400 - acc: 0.8619 - val_loss: 0.3678 - val_acc: 0.8493\n",
      "Epoch 49/100\n",
      "5359/5359 [==============================] - 1s 197us/step - loss: 0.3394 - acc: 0.8615 - val_loss: 0.3680 - val_acc: 0.8497\n",
      "Epoch 50/100\n",
      "5359/5359 [==============================] - 1s 189us/step - loss: 0.3392 - acc: 0.8602 - val_loss: 0.3680 - val_acc: 0.8485\n",
      "Epoch 51/100\n",
      "5359/5359 [==============================] - 1s 221us/step - loss: 0.3388 - acc: 0.8634 - val_loss: 0.3705 - val_acc: 0.8508\n",
      "Epoch 52/100\n",
      "5359/5359 [==============================] - 1s 201us/step - loss: 0.3389 - acc: 0.8627 - val_loss: 0.3704 - val_acc: 0.8489\n",
      "Epoch 53/100\n",
      "5359/5359 [==============================] - 1s 171us/step - loss: 0.3385 - acc: 0.8612 - val_loss: 0.3686 - val_acc: 0.8482\n",
      "Epoch 54/100\n",
      "5359/5359 [==============================] - 1s 174us/step - loss: 0.3381 - acc: 0.8615 - val_loss: 0.3694 - val_acc: 0.8466\n",
      "Epoch 55/100\n",
      "5359/5359 [==============================] - 1s 174us/step - loss: 0.3381 - acc: 0.8610 - val_loss: 0.3668 - val_acc: 0.8489\n",
      "Epoch 56/100\n",
      "5359/5359 [==============================] - 1s 248us/step - loss: 0.3377 - acc: 0.8630 - val_loss: 0.3679 - val_acc: 0.8489\n",
      "Epoch 57/100\n",
      "5359/5359 [==============================] - 1s 250us/step - loss: 0.3370 - acc: 0.8625 - val_loss: 0.3685 - val_acc: 0.8501\n",
      "Epoch 58/100\n",
      "5359/5359 [==============================] - 1s 183us/step - loss: 0.3382 - acc: 0.8610 - val_loss: 0.3676 - val_acc: 0.8489\n",
      "Epoch 59/100\n",
      "5359/5359 [==============================] - 1s 174us/step - loss: 0.3369 - acc: 0.8627 - val_loss: 0.3684 - val_acc: 0.8497\n",
      "Epoch 60/100\n"
     ]
    },
    {
     "name": "stdout",
     "output_type": "stream",
     "text": [
      "5359/5359 [==============================] - 1s 168us/step - loss: 0.3373 - acc: 0.8606 - val_loss: 0.3669 - val_acc: 0.8485\n",
      "Epoch 61/100\n",
      "5359/5359 [==============================] - 1s 165us/step - loss: 0.3367 - acc: 0.8623 - val_loss: 0.3665 - val_acc: 0.8497\n",
      "Epoch 62/100\n",
      "5359/5359 [==============================] - 1s 166us/step - loss: 0.3365 - acc: 0.8630 - val_loss: 0.3674 - val_acc: 0.8482\n",
      "Epoch 63/100\n",
      "5359/5359 [==============================] - 1s 167us/step - loss: 0.3360 - acc: 0.8621 - val_loss: 0.3658 - val_acc: 0.8489\n",
      "Epoch 64/100\n",
      "5359/5359 [==============================] - 1s 168us/step - loss: 0.3368 - acc: 0.8625 - val_loss: 0.3668 - val_acc: 0.8493\n",
      "Epoch 65/100\n",
      "5359/5359 [==============================] - 1s 164us/step - loss: 0.3363 - acc: 0.8610 - val_loss: 0.3664 - val_acc: 0.8493\n",
      "Epoch 66/100\n",
      "5359/5359 [==============================] - 1s 203us/step - loss: 0.3361 - acc: 0.8619 - val_loss: 0.3666 - val_acc: 0.8485\n",
      "Epoch 67/100\n",
      "5359/5359 [==============================] - 1s 194us/step - loss: 0.3356 - acc: 0.8642 - val_loss: 0.3674 - val_acc: 0.8482\n",
      "Epoch 68/100\n",
      "5359/5359 [==============================] - 1s 174us/step - loss: 0.3356 - acc: 0.8615 - val_loss: 0.3671 - val_acc: 0.8482\n",
      "Epoch 69/100\n",
      "5359/5359 [==============================] - 1s 174us/step - loss: 0.3355 - acc: 0.8627 - val_loss: 0.3673 - val_acc: 0.8482\n",
      "Epoch 70/100\n",
      "5359/5359 [==============================] - 1s 175us/step - loss: 0.3354 - acc: 0.8623 - val_loss: 0.3662 - val_acc: 0.8485\n",
      "Epoch 71/100\n",
      "5359/5359 [==============================] - 1s 170us/step - loss: 0.3348 - acc: 0.8610 - val_loss: 0.3666 - val_acc: 0.8508\n",
      "Epoch 72/100\n",
      "5359/5359 [==============================] - 1s 177us/step - loss: 0.3354 - acc: 0.8634 - val_loss: 0.3666 - val_acc: 0.8497\n",
      "Epoch 73/100\n",
      "5359/5359 [==============================] - 1s 202us/step - loss: 0.3354 - acc: 0.8615 - val_loss: 0.3662 - val_acc: 0.8512\n",
      "Epoch 74/100\n",
      "5359/5359 [==============================] - 1s 178us/step - loss: 0.3348 - acc: 0.8625 - val_loss: 0.3682 - val_acc: 0.8501\n",
      "Epoch 75/100\n",
      "5359/5359 [==============================] - 1s 174us/step - loss: 0.3341 - acc: 0.8628 - val_loss: 0.3689 - val_acc: 0.8474\n",
      "Epoch 76/100\n",
      "5359/5359 [==============================] - 1s 174us/step - loss: 0.3355 - acc: 0.8610 - val_loss: 0.3668 - val_acc: 0.8497\n",
      "Epoch 77/100\n",
      "5359/5359 [==============================] - 1s 170us/step - loss: 0.3346 - acc: 0.8627 - val_loss: 0.3662 - val_acc: 0.8501\n",
      "Epoch 78/100\n",
      "5359/5359 [==============================] - 1s 175us/step - loss: 0.3343 - acc: 0.8625 - val_loss: 0.3656 - val_acc: 0.8489\n",
      "Epoch 79/100\n",
      "5359/5359 [==============================] - 1s 174us/step - loss: 0.3346 - acc: 0.8623 - val_loss: 0.3681 - val_acc: 0.8489\n",
      "Epoch 80/100\n",
      "5359/5359 [==============================] - 1s 171us/step - loss: 0.3344 - acc: 0.8628 - val_loss: 0.3665 - val_acc: 0.8493\n",
      "Epoch 81/100\n",
      "5359/5359 [==============================] - 1s 178us/step - loss: 0.3339 - acc: 0.8634 - val_loss: 0.3684 - val_acc: 0.8470\n",
      "Epoch 82/100\n",
      "5359/5359 [==============================] - 1s 171us/step - loss: 0.3338 - acc: 0.8636 - val_loss: 0.3662 - val_acc: 0.8501\n",
      "Epoch 83/100\n",
      "5359/5359 [==============================] - 1s 174us/step - loss: 0.3341 - acc: 0.8623 - val_loss: 0.3668 - val_acc: 0.8504\n",
      "Epoch 84/100\n",
      "5359/5359 [==============================] - 1s 174us/step - loss: 0.3341 - acc: 0.8640 - val_loss: 0.3675 - val_acc: 0.8470\n",
      "Epoch 85/100\n",
      "5359/5359 [==============================] - 1s 178us/step - loss: 0.3339 - acc: 0.8614 - val_loss: 0.3670 - val_acc: 0.8474\n",
      "Epoch 86/100\n",
      "5359/5359 [==============================] - 1s 196us/step - loss: 0.3341 - acc: 0.8621 - val_loss: 0.3656 - val_acc: 0.8470\n",
      "Epoch 87/100\n",
      "5359/5359 [==============================] - 1s 195us/step - loss: 0.3335 - acc: 0.8621 - val_loss: 0.3671 - val_acc: 0.8501\n",
      "Epoch 88/100\n",
      "5359/5359 [==============================] - 1s 171us/step - loss: 0.3339 - acc: 0.8595 - val_loss: 0.3664 - val_acc: 0.8501\n",
      "Epoch 89/100\n",
      "5359/5359 [==============================] - 1s 186us/step - loss: 0.3338 - acc: 0.8625 - val_loss: 0.3649 - val_acc: 0.8478\n",
      "Epoch 90/100\n",
      "5359/5359 [==============================] - 1s 199us/step - loss: 0.3333 - acc: 0.8615 - val_loss: 0.3653 - val_acc: 0.8463\n",
      "Epoch 91/100\n",
      "5359/5359 [==============================] - 1s 171us/step - loss: 0.3336 - acc: 0.8628 - val_loss: 0.3646 - val_acc: 0.8478\n",
      "Epoch 92/100\n",
      "5359/5359 [==============================] - 1s 194us/step - loss: 0.3330 - acc: 0.8615 - val_loss: 0.3643 - val_acc: 0.8482\n",
      "Epoch 93/100\n",
      "5359/5359 [==============================] - 1s 185us/step - loss: 0.3330 - acc: 0.8619 - val_loss: 0.3652 - val_acc: 0.8497\n",
      "Epoch 94/100\n",
      "5359/5359 [==============================] - 1s 174us/step - loss: 0.3326 - acc: 0.8628 - val_loss: 0.3660 - val_acc: 0.8493\n",
      "Epoch 95/100\n",
      "5359/5359 [==============================] - 1s 184us/step - loss: 0.3331 - acc: 0.8632 - val_loss: 0.3652 - val_acc: 0.8485\n",
      "Epoch 96/100\n",
      "5359/5359 [==============================] - 1s 183us/step - loss: 0.3327 - acc: 0.8621 - val_loss: 0.3634 - val_acc: 0.8474\n",
      "Epoch 97/100\n",
      "5359/5359 [==============================] - 1s 195us/step - loss: 0.3324 - acc: 0.8636 - val_loss: 0.3665 - val_acc: 0.8463\n",
      "Epoch 98/100\n",
      "5359/5359 [==============================] - 1s 177us/step - loss: 0.3329 - acc: 0.8612 - val_loss: 0.3639 - val_acc: 0.8478\n",
      "Epoch 99/100\n",
      "5359/5359 [==============================] - 1s 199us/step - loss: 0.3324 - acc: 0.8614 - val_loss: 0.3653 - val_acc: 0.8474\n",
      "Epoch 100/100\n",
      "5359/5359 [==============================] - 1s 177us/step - loss: 0.3327 - acc: 0.8614 - val_loss: 0.3634 - val_acc: 0.8466\n"
     ]
    }
   ],
   "source": [
    "#fitting ANN to training set for 100 epochs i.e. the model passes the training data for 100 times to out classifier model\n",
    "model_history= classifierModel.fit(X_train, y_train, validation_split=0.33, batch_size=10, nb_epoch=100)"
   ]
  },
  {
   "cell_type": "code",
   "execution_count": 23,
   "metadata": {},
   "outputs": [
    {
     "name": "stdout",
     "output_type": "stream",
     "text": [
      "dict_keys(['val_loss', 'val_acc', 'loss', 'acc'])\n"
     ]
    },
    {
     "data": {
      "image/png": "[encoded data removed]",
      "text/plain": [
       "<Figure size 432x288 with 1 Axes>"
      ]
     },
     "metadata": {
      "needs_background": "light"
     },
     "output_type": "display_data"
    }
   ],
   "source": [
    "#list all data in history\n",
    "print(model_history.history.keys())\n",
    "#summarize history for accuracy\n",
    "plt.plot(model_history.history[\"acc\"])\n",
    "plt.plot(model_history.history[\"val_acc\"])\n",
    "plt.title(\"Model Accuracy\")\n",
    "plt.ylabel(\"Accuracy\")\n",
    "plt.xlabel(\"epoch\")\n",
    "plt.legend([\"train\",\"test\"], loc=\"upper left\")\n",
    "plt.show()\n"
   ]
  },
  {
   "cell_type": "code",
   "execution_count": 24,
   "metadata": {},
   "outputs": [],
   "source": [
    "#making predictions and evaluating model\n",
    "#test set results prediction\n",
    "y_predict = classifierModel.predict(X_test)\n",
    "y_predict = (y_predict>0.5)\n",
    "\n",
    "#making confusion matrix\n",
    "from sklearn.metrics import confusion_matrix\n",
    "cm = confusion_matrix(y_test, y_predict)"
   ]
  },
  {
   "cell_type": "code",
   "execution_count": 25,
   "metadata": {},
   "outputs": [],
   "source": [
    "#calculating accuracy\n",
    "from sklearn.metrics import accuracy_score\n",
    "acc =  accuracy_score(y_predict, y_test)"
   ]
  },
  {
   "cell_type": "code",
   "execution_count": 26,
   "metadata": {},
   "outputs": [
    {
     "name": "stdout",
     "output_type": "stream",
     "text": [
      "[[1529   66]\n",
      " [ 215  190]]\n"
     ]
    }
   ],
   "source": [
    "print(cm)"
   ]
  },
  {
   "cell_type": "code",
   "execution_count": 27,
   "metadata": {},
   "outputs": [
    {
     "name": "stdout",
     "output_type": "stream",
     "text": [
      "0.8595\n"
     ]
    }
   ],
   "source": [
    "print(acc)"
   ]
  },
  {
   "cell_type": "code",
   "execution_count": null,
   "metadata": {},
   "outputs": [],
   "source": []
  }
 ],
 "metadata": {
  "kernelspec": {
   "display_name": "Python 3",
   "language": "python",
   "name": "python3"
  },
  "language_info": {
   "codemirror_mode": {
    "name": "ipython",
    "version": 3
   },
   "file_extension": ".py",
   "mimetype": "text/x-python",
   "name": "python",
   "nbconvert_exporter": "python",
   "pygments_lexer": "ipython3",
   "version": "3.7.1"
  }
 },
 "nbformat": 4,
 "nbformat_minor": 2
}
